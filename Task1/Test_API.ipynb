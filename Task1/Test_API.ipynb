{
  "nbformat": 4,
  "nbformat_minor": 0,
  "metadata": {
    "colab": {
      "name": "Test API.ipynb",
      "provenance": []
    },
    "kernelspec": {
      "name": "python3",
      "display_name": "Python 3"
    },
    "language_info": {
      "name": "python"
    }
  },
  "cells": [
    {
      "cell_type": "code",
      "metadata": {
        "id": "nAS1ojULuJ2-"
      },
      "source": [
        "import requests, json"
      ],
      "execution_count": 1,
      "outputs": []
    },
    {
      "cell_type": "markdown",
      "metadata": {
        "id": "o3DQBsWAuLF0"
      },
      "source": [
        "1. Посмотреть документацию к API GitHub, разобраться как вывести список репозиториев для конкретного пользователя, сохранить JSON-вывод в файле *.json."
      ]
    },
    {
      "cell_type": "code",
      "metadata": {
        "colab": {
          "base_uri": "https://localhost:8080/"
        },
        "id": "CLteMlJrtBGo",
        "outputId": "5e00fe25-ad8c-4a37-d015-705390708f71"
      },
      "source": [
        "url = 'https://api.github.com'\n",
        "user ='NastaKuz'\n",
        "\n",
        "req_json = requests.get(f'{url}/users/{user}/repos').json()\n",
        "\n",
        "for i in req_json:\n",
        "  print(i['name'])\n",
        "\n",
        "\n",
        "with open('githubData.json', 'w') as file:\n",
        "  json.dump(req_json, file)"
      ],
      "execution_count": 59,
      "outputs": [
        {
          "output_type": "stream",
          "text": [
            "PythonPushkinGenerator\n"
          ],
          "name": "stdout"
        }
      ]
    },
    {
      "cell_type": "markdown",
      "metadata": {
        "id": "_TKlR1v1xpgj"
      },
      "source": [
        "2. Изучить список открытых API (https://www.programmableweb.com/category/all/apis). Найти среди них любое, требующее авторизацию (любого типа). Выполнить запросы к нему, пройдя авторизацию. Ответ сервера записать в файл."
      ]
    },
    {
      "cell_type": "markdown",
      "metadata": {
        "id": "Cp7yg1rZSExv"
      },
      "source": [
        "Todoist:"
      ]
    },
    {
      "cell_type": "code",
      "metadata": {
        "colab": {
          "base_uri": "https://localhost:8080/"
        },
        "id": "Y9JMd8ssz9FG",
        "outputId": "b1159f2a-34b6-4edf-d099-5e005adeabd6"
      },
      "source": [
        "auth = '3b26e74302c5186ca63895fcf15c79d097c99886'\n",
        "req_json = requests.get(\n",
        "    \"https://api.todoist.com/rest/v1/projects\", \n",
        "    headers={\n",
        "        \"Authorization\": f\"Bearer {auth}\"\n",
        "    }).json()\n",
        "\n",
        "for i in req_json:\n",
        "  print(i['name'])\n",
        "\n",
        "with open('todoistData.json', 'w') as file:\n",
        "  json.dump(req_json, file)"
      ],
      "execution_count": 58,
      "outputs": [
        {
          "output_type": "stream",
          "text": [
            "Inbox\n",
            "Welcome 👋\n",
            "Try Boards\n"
          ],
          "name": "stdout"
        }
      ]
    },
    {
      "cell_type": "markdown",
      "metadata": {
        "id": "-RsJ9m4aSI1f"
      },
      "source": [
        "Foursquare:"
      ]
    },
    {
      "cell_type": "code",
      "metadata": {
        "colab": {
          "base_uri": "https://localhost:8080/"
        },
        "id": "y3TKxtDxTBRr",
        "outputId": "5b9ef562-05a3-44db-bf60-45ec7bd21f37"
      },
      "source": [
        "req_json = requests.get(\n",
        "    \"https://api.foursquare.com/v2/venues/explore\", \n",
        "    params={\n",
        "        \"client_id\": \"O3VIOCNVZJFUEBGA33RIBBTJY4MBHYD4KVS4ZCOXKZ3S0KM5\",\n",
        "        \"client_secret\": \"KLUIRIILFRV4RHBS2QWZA0ELYU2M5L20TKEE0UI1ZS4RLHMX\",\n",
        "        \"v\": \"20210308\",\n",
        "        \"ll\": \"55.76060644163612, 37.61892475828963\",\n",
        "        \"query\": \"museum\",\n",
        "        \"limit\": 1\n",
        "    }).json()\n",
        "\n",
        "first_result = req_json['response']['groups'][0]['items'][0]['venue']\n",
        "\n",
        "print(first_result['name'], \"по адресу\", first_result['location']['address'])\n",
        "\n",
        "with open('foursquareData.json', 'w') as file:\n",
        "  json.dump(req_json, file)"
      ],
      "execution_count": 57,
      "outputs": [
        {
          "output_type": "stream",
          "text": [
            "Музей Отечественной войны 1812 года по адресу пл. Революции, 2/3\n"
          ],
          "name": "stdout"
        }
      ]
    }
  ]
}